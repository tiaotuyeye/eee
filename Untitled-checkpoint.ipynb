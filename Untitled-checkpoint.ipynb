{
 "cells": [
  {
   "cell_type": "code",
   "execution_count": null,
   "id": "a45c0844",
   "metadata": {},
   "outputs": [
    {
     "name": "stdout",
     "output_type": "stream",
     "text": [
      " * Serving Flask app '__main__'\n",
      " * Debug mode: off\n"
     ]
    },
    {
     "name": "stderr",
     "output_type": "stream",
     "text": [
      "WARNING: This is a development server. Do not use it in a production deployment. Use a production WSGI server instead.\n",
      " * Running on http://127.0.0.1:5000\n",
      "Press CTRL+C to quit\n",
      "127.0.0.1 - - [22/Feb/2024 01:45:47] \"GET / HTTP/1.1\" 200 -\n"
     ]
    }
   ],
   "source": [
    "from flask import Flask,request,render_template\n",
    "import replicate\n",
    "import os\n",
    "import time\n",
    "from openai import OpenAI\n",
    "\n",
    "\n",
    "model =OpenAI(api_key=\"sess-rMRQ43evufJkdDsui8CZc6PMsEJG773duIxL5Pkb\")\n",
    "os.environ[\"REPLICATE_API_TOKEN\"]=\"r8_3DPIAiGs9tk9J3zMbDkpqx2UC1UbLoy0oKkeo\"\n",
    "\n",
    "app = Flask(__name__)\n",
    "r = \"\"\n",
    "first_time = 1\n",
    "\n",
    "@app.route(\"/\",methods=[\"GET\",\"POST\"])\n",
    "def index():\n",
    "    return(render_template(\"index.html\"))\n",
    "\n",
    "@app.route(\"/main\",methods=[\"GET\",\"POST\"])\n",
    "def main():\n",
    "    global r,first_time\n",
    "    if first_time==1:\n",
    "        r = request.form.get(\"r\")\n",
    "        first_time=0\n",
    "    return(render_template(\"main.html\",r=r))\n",
    "\n",
    "@app.route(\"/text_gpt\",methods=[\"GET\",\"POST\"])\n",
    "def image_gpt():\n",
    "    return(render_template(\"text_gpt.html\"))\n",
    "\n",
    "@app.route(\"/text_result\",methods=[\"GET\",\"POST\"])\n",
    "def text_result():\n",
    "    q = request.form.get(\"q\")\n",
    "    r = model.chat.completions.create(\n",
    "model =\"gpt-3.5-turbo\",\n",
    "messages=[\n",
    "    {\n",
    "        \"role\":\"user\",\n",
    "        \"content\":q\n",
    "    }\n",
    "],\n",
    ")\n",
    "    time.sleep(5)\n",
    "    return(render_template(\"text_result.html\",r=r[0]))\n",
    "\n",
    "@app.route(\"/image_gpt\",methods=[\"GET\",\"POST\"])\n",
    "def image_gpt():\n",
    "    return(render_template(\"image_gpt.html\"))\n",
    "\n",
    "@app.route(\"/image_result\",methods=[\"GET\",\"POST\"])\n",
    "def image_result():\n",
    "    q = request.form.get(\"q\")\n",
    "    r = replicate.run(\n",
    "    \"stability-ai/stable-diffusion:db21e45d3f7023abc2a46ee38a23973f6dce16bb082a930b0c49861f96d1e5bf\",\n",
    "    input={\n",
    "        \"prompt\": q,\n",
    "        }\n",
    "    )\n",
    "    time.sleep(10)\n",
    "    return(render_template(\"image_result.html\",r=r[0]))\n",
    "\n",
    "@app.route(\"/end\",methods=[\"GET\",\"POST\"])\n",
    "def end():\n",
    "    global first_time\n",
    "    first_time = 1\n",
    "    return(render_template(\"end.html\"))\n",
    "\n",
    "if __name__ == \"__main__\":\n",
    "    app.run()"
   ]
  },
  {
   "cell_type": "code",
   "execution_count": null,
   "id": "1c8e9cba",
   "metadata": {},
   "outputs": [],
   "source": []
  },
  {
   "cell_type": "code",
   "execution_count": null,
   "id": "775b12b9",
   "metadata": {},
   "outputs": [],
   "source": []
  },
  {
   "cell_type": "code",
   "execution_count": null,
   "id": "8455b687",
   "metadata": {},
   "outputs": [],
   "source": []
  },
  {
   "cell_type": "code",
   "execution_count": null,
   "id": "c2667da4",
   "metadata": {},
   "outputs": [],
   "source": []
  }
 ],
 "metadata": {
  "kernelspec": {
   "display_name": "Python 3 (ipykernel)",
   "language": "python",
   "name": "python3"
  },
  "language_info": {
   "codemirror_mode": {
    "name": "ipython",
    "version": 3
   },
   "file_extension": ".py",
   "mimetype": "text/x-python",
   "name": "python",
   "nbconvert_exporter": "python",
   "pygments_lexer": "ipython3",
   "version": "3.11.5"
  }
 },
 "nbformat": 4,
 "nbformat_minor": 5
}
